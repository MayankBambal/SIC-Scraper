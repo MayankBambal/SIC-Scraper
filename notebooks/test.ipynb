{
 "cells": [
  {
   "cell_type": "code",
   "execution_count": 37,
   "metadata": {},
   "outputs": [],
   "source": [
    "import pandas as pd\n",
    "df = pd.read_csv('/Users/mayankbambal/Desktop/SIC Scraper/data/final/company_tickers.csv')"
   ]
  },
  {
   "cell_type": "code",
   "execution_count": 38,
   "metadata": {},
   "outputs": [
    {
     "data": {
      "text/plain": [
       "(9732, 4)"
      ]
     },
     "execution_count": 38,
     "metadata": {},
     "output_type": "execute_result"
    }
   ],
   "source": [
    "df.shape"
   ]
  },
  {
   "cell_type": "code",
   "execution_count": 39,
   "metadata": {},
   "outputs": [],
   "source": [
    "df['SIC_code'] = df['SIC_code'].fillna(0).astype(float).astype(int)"
   ]
  },
  {
   "cell_type": "code",
   "execution_count": 40,
   "metadata": {},
   "outputs": [],
   "source": [
    "dfzero = df.loc[df['SIC_code'] ==0]"
   ]
  },
  {
   "cell_type": "code",
   "execution_count": 41,
   "metadata": {},
   "outputs": [
    {
     "data": {
      "text/plain": [
       "(858, 4)"
      ]
     },
     "execution_count": 41,
     "metadata": {},
     "output_type": "execute_result"
    }
   ],
   "source": [
    "dfzero.shape"
   ]
  },
  {
   "cell_type": "code",
   "execution_count": 3,
   "metadata": {},
   "outputs": [],
   "source": [
    "df.to_csv('/Users/mayankbambal/Desktop/SIC Scraper/data/final/company_tickers2.csv', index=False)"
   ]
  },
  {
   "cell_type": "code",
   "execution_count": 2,
   "metadata": {},
   "outputs": [
    {
     "data": {
      "text/plain": [
       "(1563, 4)"
      ]
     },
     "execution_count": 2,
     "metadata": {},
     "output_type": "execute_result"
    }
   ],
   "source": [
    "nosic = df[(df['SIC_code'].isnull())]\n",
    "nosic.shape"
   ]
  },
  {
   "cell_type": "code",
   "execution_count": 2,
   "metadata": {},
   "outputs": [],
   "source": [
    "import time\n",
    "import random\n",
    "import pandas as pd\n",
    "import requests\n",
    "from bs4 import BeautifulSoup\n",
    "from selenium import webdriver\n",
    "from selenium.webdriver.firefox.options import Options as FirefoxOptions\n",
    "from selenium.webdriver.firefox.service import Service as FirefoxService\n",
    "from getcikstoparse import get_missing_sic_rows\n",
    "\n",
    "# Setup user-agent header\n",
    "headers = {'User-Agent': \"mbambal@purdue.edu\"}\n",
    "\n",
    "def get_edgar_data_selenium(cik):\n",
    "    driver = None\n",
    "    try:\n",
    "        options = FirefoxOptions()\n",
    "        options.add_argument(\"--headless\")\n",
    "        options.binary_location = \"/Applications/Firefox.app/Contents/MacOS/firefox\"\n",
    "\n",
    "        service = FirefoxService(executable_path=\"/opt/homebrew/bin/geckodriver\")\n",
    "        driver = webdriver.Firefox(service=service, options=options)\n",
    "\n",
    "        url = f\"https://www.sec.gov/cgi-bin/browse-edgar?CIK={cik}&owner=exclude&action=getcompany\"\n",
    "        driver.get(url)\n",
    "        time.sleep(3)\n",
    "        return driver.page_source\n",
    "\n",
    "    except Exception as e:\n",
    "        print(f\"Error processing CIK {cik}: {e}\")\n",
    "        return None\n",
    "\n",
    "    finally:\n",
    "        if driver:\n",
    "            try:\n",
    "                driver.quit()\n",
    "            except Exception:\n",
    "                pass\n",
    "\n",
    "def get_sic_code_from_html(html):\n",
    "    soup = BeautifulSoup(html, 'html.parser')\n",
    "    sic_spans = soup.find_all(\"span\", id=\"SIC\")\n",
    "    if sic_spans:\n",
    "        return sic_spans[0].get_text(strip=True)\n",
    "    return None\n",
    "\n",
    "def process_company(cik):\n",
    "    html_data = get_edgar_data_selenium(cik)\n",
    "    sic_code = get_sic_code_from_html(html_data) if html_data else None\n",
    "    time.sleep(random.uniform(1, 3))  # Avoid hitting SEC too fast\n",
    "    return cik, sic_code\n",
    "\n",
    "def process_single_batch(companyData, batch_num, batch_size=1000):\n",
    "    start = batch_num * batch_size\n",
    "    end = start + batch_size\n",
    "    batch_df = companyData.iloc[start:end].copy()\n",
    "    print(f\"\\nProcessing batch {batch_num} (index {start} to {end})...\\n\")\n",
    "\n",
    "    results = []\n",
    "    total = len(batch_df)\n",
    "    correct = 0\n",
    "\n",
    "    for i, row in batch_df.iterrows():\n",
    "        cik = row['cik_str']\n",
    "        cik, sic_code = process_company(cik)\n",
    "\n",
    "        # If parsing failed, store 0\n",
    "        if not sic_code:\n",
    "            sic_code = 0\n",
    "        else:\n",
    "            correct += 1\n",
    "\n",
    "        companyData.at[i, 'SIC_code'] = sic_code\n",
    "        results.append((cik, sic_code))\n",
    "\n",
    "        # Show progress\n",
    "        percent_complete = ((i - start + 1) / total) * 100\n",
    "        percent_correct = (correct / (i - start + 1)) * 100\n",
    "        print(f\"Progress: {percent_complete:.2f}% | Correct: {percent_correct:.2f}%\", end=\"\\r\")\n",
    "\n",
    "    # Save result to CSV\n",
    "    save_path = rf\"/Users/mayankbambal/Desktop/SIC Scraper/data/stagging\\Data_with_SIC_codes{batch_num}.csv\"\n",
    "    companyData.to_csv(save_path, index=False)\n",
    "    print(f\"\\n\\nBatch {batch_num} completed. Saved to:\\n{save_path}\\n\")\n",
    "    return companyData\n"
   ]
  },
  {
   "cell_type": "code",
   "execution_count": 3,
   "metadata": {},
   "outputs": [
    {
     "data": {
      "text/plain": [
       "(2093, 4)"
      ]
     },
     "execution_count": 3,
     "metadata": {},
     "output_type": "execute_result"
    }
   ],
   "source": [
    "find_sic = get_missing_sic_rows('/Users/mayankbambal/Desktop/SIC Scraper/data/final/company_tickers.csv')\n",
    "find_sic.shape"
   ]
  },
  {
   "cell_type": "code",
   "execution_count": 4,
   "metadata": {},
   "outputs": [
    {
     "name": "stdout",
     "output_type": "stream",
     "text": [
      "\n",
      "Processing batch 0 (index 0 to 500)...\n",
      "\n",
      "Progress: 6.20% | Correct: 0.00%\r"
     ]
    },
    {
     "ename": "KeyboardInterrupt",
     "evalue": "",
     "output_type": "error",
     "traceback": [
      "\u001b[31m---------------------------------------------------------------------------\u001b[39m",
      "\u001b[31mKeyboardInterrupt\u001b[39m                         Traceback (most recent call last)",
      "\u001b[36mCell\u001b[39m\u001b[36m \u001b[39m\u001b[32mIn[4]\u001b[39m\u001b[32m, line 3\u001b[39m\n\u001b[32m      1\u001b[39m \u001b[38;5;66;03m# Example loop to run multiple batches\u001b[39;00m\n\u001b[32m      2\u001b[39m \u001b[38;5;28;01mfor\u001b[39;00m batch_number \u001b[38;5;129;01min\u001b[39;00m [\u001b[32m0\u001b[39m, \u001b[32m1\u001b[39m, \u001b[32m2\u001b[39m, \u001b[32m3\u001b[39m]:\n\u001b[32m----> \u001b[39m\u001b[32m3\u001b[39m     companyData = \u001b[43mprocess_single_batch\u001b[49m\u001b[43m(\u001b[49m\u001b[43mfind_sic\u001b[49m\u001b[43m,\u001b[49m\u001b[43m \u001b[49m\u001b[43mbatch_number\u001b[49m\u001b[43m,\u001b[49m\u001b[43m \u001b[49m\u001b[43mbatch_size\u001b[49m\u001b[43m=\u001b[49m\u001b[32;43m500\u001b[39;49m\u001b[43m)\u001b[49m\n",
      "\u001b[36mCell\u001b[39m\u001b[36m \u001b[39m\u001b[32mIn[2]\u001b[39m\u001b[32m, line 65\u001b[39m, in \u001b[36mprocess_single_batch\u001b[39m\u001b[34m(companyData, batch_num, batch_size)\u001b[39m\n\u001b[32m     63\u001b[39m \u001b[38;5;28;01mfor\u001b[39;00m i, row \u001b[38;5;129;01min\u001b[39;00m batch_df.iterrows():\n\u001b[32m     64\u001b[39m     cik = row[\u001b[33m'\u001b[39m\u001b[33mcik_str\u001b[39m\u001b[33m'\u001b[39m]\n\u001b[32m---> \u001b[39m\u001b[32m65\u001b[39m     cik, sic_code = \u001b[43mprocess_company\u001b[49m\u001b[43m(\u001b[49m\u001b[43mcik\u001b[49m\u001b[43m)\u001b[49m\n\u001b[32m     67\u001b[39m     \u001b[38;5;66;03m# If parsing failed, store 0\u001b[39;00m\n\u001b[32m     68\u001b[39m     \u001b[38;5;28;01mif\u001b[39;00m \u001b[38;5;129;01mnot\u001b[39;00m sic_code:\n",
      "\u001b[36mCell\u001b[39m\u001b[36m \u001b[39m\u001b[32mIn[2]\u001b[39m\u001b[32m, line 48\u001b[39m, in \u001b[36mprocess_company\u001b[39m\u001b[34m(cik)\u001b[39m\n\u001b[32m     47\u001b[39m \u001b[38;5;28;01mdef\u001b[39;00m\u001b[38;5;250m \u001b[39m\u001b[34mprocess_company\u001b[39m(cik):\n\u001b[32m---> \u001b[39m\u001b[32m48\u001b[39m     html_data = \u001b[43mget_edgar_data_selenium\u001b[49m\u001b[43m(\u001b[49m\u001b[43mcik\u001b[49m\u001b[43m)\u001b[49m\n\u001b[32m     49\u001b[39m     sic_code = get_sic_code_from_html(html_data) \u001b[38;5;28;01mif\u001b[39;00m html_data \u001b[38;5;28;01melse\u001b[39;00m \u001b[38;5;28;01mNone\u001b[39;00m\n\u001b[32m     50\u001b[39m     time.sleep(random.uniform(\u001b[32m1\u001b[39m, \u001b[32m3\u001b[39m))  \u001b[38;5;66;03m# Avoid hitting SEC too fast\u001b[39;00m\n",
      "\u001b[36mCell\u001b[39m\u001b[36m \u001b[39m\u001b[32mIn[2]\u001b[39m\u001b[32m, line 26\u001b[39m, in \u001b[36mget_edgar_data_selenium\u001b[39m\u001b[34m(cik)\u001b[39m\n\u001b[32m     24\u001b[39m     url = \u001b[33mf\u001b[39m\u001b[33m\"\u001b[39m\u001b[33mhttps://www.sec.gov/cgi-bin/browse-edgar?CIK=\u001b[39m\u001b[38;5;132;01m{\u001b[39;00mcik\u001b[38;5;132;01m}\u001b[39;00m\u001b[33m&owner=exclude&action=getcompany\u001b[39m\u001b[33m\"\u001b[39m\n\u001b[32m     25\u001b[39m     driver.get(url)\n\u001b[32m---> \u001b[39m\u001b[32m26\u001b[39m     \u001b[43mtime\u001b[49m\u001b[43m.\u001b[49m\u001b[43msleep\u001b[49m\u001b[43m(\u001b[49m\u001b[32;43m3\u001b[39;49m\u001b[43m)\u001b[49m\n\u001b[32m     27\u001b[39m     \u001b[38;5;28;01mreturn\u001b[39;00m driver.page_source\n\u001b[32m     29\u001b[39m \u001b[38;5;28;01mexcept\u001b[39;00m \u001b[38;5;167;01mException\u001b[39;00m \u001b[38;5;28;01mas\u001b[39;00m e:\n",
      "\u001b[31mKeyboardInterrupt\u001b[39m: "
     ]
    }
   ],
   "source": [
    "# Example loop to run multiple batches\n",
    "for batch_number in [0, 1, 2, 3]:\n",
    "    companyData = process_single_batch(find_sic, batch_number, batch_size=500)"
   ]
  },
  {
   "cell_type": "code",
   "execution_count": 27,
   "metadata": {},
   "outputs": [],
   "source": [
    "df = pd.read_csv('/Users/mayankbambal/Desktop/SIC Scraper/data/final/company_tickers.csv')"
   ]
  },
  {
   "cell_type": "code",
   "execution_count": 28,
   "metadata": {},
   "outputs": [],
   "source": [
    "df['SIC_code'] = df['SIC_code'].fillna(0)\n",
    "df['SIC_code'] = df['SIC_code'].astype(int)\n",
    "df['SIC_code'] = df['SIC_code'].astype(str)\n"
   ]
  },
  {
   "cell_type": "code",
   "execution_count": 29,
   "metadata": {},
   "outputs": [],
   "source": [
    "nosci= df[df['SIC_code'] == '0']"
   ]
  },
  {
   "cell_type": "code",
   "execution_count": 30,
   "metadata": {},
   "outputs": [
    {
     "data": {
      "text/plain": [
       "(3157, 4)"
      ]
     },
     "execution_count": 30,
     "metadata": {},
     "output_type": "execute_result"
    }
   ],
   "source": [
    "nosci.shape"
   ]
  },
  {
   "cell_type": "code",
   "execution_count": null,
   "metadata": {},
   "outputs": [],
   "source": [
    "df.to_csv('/Users/mayankbambal/Desktop/SIC Scraper/data/final/CIK_SIC_mapping.csv', index=False)"
   ]
  },
  {
   "cell_type": "code",
   "execution_count": 23,
   "metadata": {},
   "outputs": [],
   "source": [
    "import pandas as pd\n",
    "\n",
    "def update_sic_from_file(file1, file2):\n",
    "    \"\"\"\n",
    "    Updates SIC_code in file1 using non-zero SIC_code values from file2,\n",
    "    matching on cik_str. Only non-zero SIC_codes from file2 are applied.\n",
    "    file1 is updated in-place.\n",
    "\n",
    "    Args:\n",
    "        file1 (str): Path to the main CSV file to update (will be modified).\n",
    "        file2 (str): Path to the CSV file containing updated SIC_codes.\n",
    "    \"\"\"\n",
    "    # Read both files\n",
    "    df_main = pd.read_csv(file1)\n",
    "    df_sic = pd.read_csv(file2)\n",
    "\n",
    "    # Ensure cik_str is properly formatted\n",
    "    df_main['cik_str'] = df_main['cik_str'].astype(str).str.zfill(10)\n",
    "    df_sic['cik_str'] = df_sic['cik_str'].astype(str).str.zfill(10)\n",
    "\n",
    "    # Keep only non-zero SIC_code rows from file2\n",
    "    df_sic_nonzero = df_sic[df_sic['SIC_code'] != 0][['cik_str', 'SIC_code']]\n",
    "\n",
    "    # Set index for fast lookup\n",
    "    df_sic_nonzero.set_index('cik_str', inplace=True)\n",
    "\n",
    "    # Update SIC_code in df_main\n",
    "    def get_updated_sic(row):\n",
    "        return df_sic_nonzero.loc[row['cik_str'], 'SIC_code'] \\\n",
    "            if row['cik_str'] in df_sic_nonzero.index else row.get('SIC_code', 0)\n",
    "\n",
    "    df_main['SIC_code'] = df_main.apply(get_updated_sic, axis=1)\n",
    "\n",
    "    # Save back to file1\n",
    "    df_main.to_csv(file1, index=False)\n",
    "    print(f\"Updated SIC_code values saved to: {file1}\")"
   ]
  },
  {
   "cell_type": "code",
   "execution_count": 26,
   "metadata": {},
   "outputs": [
    {
     "name": "stdout",
     "output_type": "stream",
     "text": [
      "Updated SIC_code values saved to: /Users/mayankbambal/Desktop/SIC Scraper/data/final/company_tickers.csv\n"
     ]
    }
   ],
   "source": [
    "update_sic_from_file('/Users/mayankbambal/Desktop/SIC Scraper/data/final/company_tickers.csv', '/Users/mayankbambal/Desktop/SIC Scraper/data/final/master.csv')"
   ]
  },
  {
   "cell_type": "code",
   "execution_count": null,
   "metadata": {},
   "outputs": [],
   "source": []
  }
 ],
 "metadata": {
  "kernelspec": {
   "display_name": ".venv",
   "language": "python",
   "name": "python3"
  },
  "language_info": {
   "codemirror_mode": {
    "name": "ipython",
    "version": 3
   },
   "file_extension": ".py",
   "mimetype": "text/x-python",
   "name": "python",
   "nbconvert_exporter": "python",
   "pygments_lexer": "ipython3",
   "version": "3.13.2"
  }
 },
 "nbformat": 4,
 "nbformat_minor": 2
}

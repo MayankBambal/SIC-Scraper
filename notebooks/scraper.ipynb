{
 "cells": [
  {
   "cell_type": "code",
   "execution_count": 9,
   "metadata": {},
   "outputs": [],
   "source": [
    "import random\n",
    "import time\n",
    "import pandas as pd\n",
    "import requests\n",
    "from concurrent.futures import ThreadPoolExecutor, as_completed\n",
    "from selenium import webdriver\n",
    "from selenium.webdriver.firefox.options import Options as FirefoxOptions\n",
    "from selenium.webdriver.firefox.service import Service as FirefoxService\n",
    "from bs4 import BeautifulSoup\n",
    "\n",
    "headers = {'User-Agent': \"mbambal@purdue.edu\"}\n",
    "\n",
    "def get_edgar_data_selenium(cik):\n",
    "    \"\"\"\n",
    "    Uses Selenium with Firefox to load the SEC EDGAR page for the given CIK.\n",
    "    Returns the rendered HTML.\n",
    "    \"\"\"\n",
    "    # Set up Firefox options for headless mode\n",
    "    firefox_options = FirefoxOptions()\n",
    "    firefox_options.add_argument(\"--headless\")\n",
    "    firefox_options.add_argument(\"--no-sandbox\")\n",
    "    firefox_options.add_argument(\"--disable-dev-shm-usage\")\n",
    "    # Set the binary location (adjust if necessary)\n",
    "    firefox_options.binary_location = \"/Applications/Firefox.app/Contents/MacOS/firefox\"\n",
    "    \n",
    "    # Create a Service object pointing to geckodriver (adjust the path if needed)\n",
    "    service = FirefoxService(executable_path=\"/opt/homebrew/bin/geckodriver\")\n",
    "    \n",
    "    # Initialize the Firefox WebDriver with the service and options\n",
    "    driver = webdriver.Firefox(service=service, options=firefox_options)\n",
    "\n",
    "    # Construct the SEC EDGAR URL for the given CIK (using the classic endpoint)\n",
    "    url = f\"https://www.sec.gov/cgi-bin/browse-edgar?CIK={cik}&owner=exclude&action=getcompany\"\n",
    "    driver.get(url)\n",
    "    \n",
    "    # Allow time for the page to load completely\n",
    "    time.sleep(3)\n",
    "    \n",
    "    # Get the rendered HTML\n",
    "    html = driver.page_source\n",
    "    driver.quit()\n",
    "    return html"
   ]
  },
  {
   "cell_type": "code",
   "execution_count": 10,
   "metadata": {},
   "outputs": [],
   "source": [
    "def get_company_data(headers=None):\n",
    "    \"\"\"\n",
    "    Fetches company ticker data from the SEC, converts it to a DataFrame,\n",
    "    and formats the CIK with leading zeros.\n",
    "\n",
    "    Args:\n",
    "        headers (dict, optional): Optional headers for the HTTP request (e.g., User-Agent).\n",
    "\n",
    "    Returns:\n",
    "        pd.DataFrame: DataFrame containing company tickers with formatted CIKs.\n",
    "    \"\"\"\n",
    "    url = \"https://www.sec.gov/files/company_tickers.json\"\n",
    "    response = requests.get(url, headers=headers)\n",
    "    response.raise_for_status()  # Raise error if request fails\n",
    "\n",
    "    company_data = pd.DataFrame.from_dict(response.json(), orient='index')\n",
    "    company_data['cik_str'] = company_data['cik_str'].astype(str).str.zfill(10)\n",
    "\n",
    "    return company_data"
   ]
  },
  {
   "cell_type": "code",
   "execution_count": 11,
   "metadata": {},
   "outputs": [],
   "source": [
    "def get_sic_code_from_html(html):\n",
    "    \"\"\"\n",
    "    Parses the provided HTML using BeautifulSoup and extracts the SIC code.\n",
    "    It looks for a <span> element with id=\"SIC\" and returns its text.\n",
    "    \"\"\"\n",
    "    soup = BeautifulSoup(html, 'html.parser')\n",
    "    sic_spans = soup.find_all(\"span\", id=\"SIC\")\n",
    "    if sic_spans:\n",
    "        return sic_spans[0].get_text(strip=True)\n",
    "    return None"
   ]
  },
  {
   "cell_type": "code",
   "execution_count": 12,
   "metadata": {},
   "outputs": [],
   "source": [
    "def process_company(cik):\n",
    "    \"\"\"\n",
    "    Processes a single company: fetches its EDGAR page using Firefox,\n",
    "    extracts the SIC code, and returns a tuple (cik, sic_code).\n",
    "    A random delay is added to avoid overwhelming the server.\n",
    "    \"\"\"\n",
    "    try:\n",
    "        html_data = get_edgar_data_selenium(cik)\n",
    "        sic_code = get_sic_code_from_html(html_data)\n",
    "    except Exception as e:\n",
    "        print(f\"Error processing CIK {cik}: {e}\")\n",
    "        sic_code = None\n",
    "    # Add a random delay between 1 and 3 seconds\n",
    "    time.sleep(random.uniform(1, 3))\n",
    "    return cik, sic_code"
   ]
  },
  {
   "cell_type": "code",
   "execution_count": 13,
   "metadata": {},
   "outputs": [],
   "source": [
    "def get_missing_sic_rows(all_ciks_file):\n",
    "    \"\"\"\n",
    "    Returns a DataFrame containing rows from the input file\n",
    "    where SIC_code is missing or zero.\n",
    "\n",
    "    Args:\n",
    "        all_ciks_file (str): Path to the CSV file containing cik_str, ticker, title, SIC_code.\n",
    "\n",
    "    Returns:\n",
    "        pd.DataFrame: Filtered DataFrame with missing or zero SIC_code.\n",
    "    \"\"\"\n",
    "    df = pd.read_csv(all_ciks_file)\n",
    "\n",
    "    # Ensure SIC_code exists and is numeric\n",
    "    if 'SIC_code' not in df.columns:\n",
    "        df['SIC_code'] = 0\n",
    "    else:\n",
    "        df['SIC_code'] = pd.to_numeric(df['SIC_code'], errors='coerce').fillna(0).astype(int)\n",
    "\n",
    "    # Filter rows with SIC_code == 0\n",
    "    df_missing = df[df['SIC_code'] == 0]\n",
    "\n",
    "    df_missing.reset_index(drop=True, inplace=True)\n",
    "\n",
    "    return df_missing"
   ]
  },
  {
   "cell_type": "code",
   "execution_count": 14,
   "metadata": {},
   "outputs": [],
   "source": [
    "def process_batch(batch_df, max_workers=3):\n",
    "    \"\"\"\n",
    "    Processes a batch of companies concurrently.\n",
    "    Returns a list of tuples (cik, sic_code) for the companies in the batch.\n",
    "    \"\"\"\n",
    "    results = []\n",
    "    with ThreadPoolExecutor(max_workers=max_workers) as executor:\n",
    "        future_to_cik = {executor.submit(process_company, row['cik_str']): row['cik_str'] for _, row in batch_df.iterrows()}\n",
    "        for future in as_completed(future_to_cik):\n",
    "            cik, sic_code = future.result()\n",
    "            results.append((cik, sic_code))\n",
    "    return results"
   ]
  },
  {
   "cell_type": "code",
   "execution_count": 15,
   "metadata": {},
   "outputs": [],
   "source": [
    "def process_single_batch(companyData, batch_num, batch_size=1000, max_workers=3):\n",
    "    \"\"\"\n",
    "    Processes a single batch of companies (based on the given batch number).\n",
    "    Updates the companyData DataFrame with extracted SIC codes for that batch and saves the DataFrame.\n",
    "    \n",
    "    Args:\n",
    "        companyData: The full DataFrame containing company data.\n",
    "        batch_num: The batch number to process (starting from 0).\n",
    "        batch_size: Number of companies to process in one batch.\n",
    "        max_workers: Maximum number of threads for parallel processing.\n",
    "        \n",
    "    Returns:\n",
    "        The updated companyData DataFrame.\n",
    "    \"\"\"\n",
    "    start = batch_num * batch_size\n",
    "    end = start + batch_size\n",
    "    batch_df = companyData.iloc[start:end]\n",
    "    print(f\"Processing batch {batch_num} (index {start} to {end})...\")\n",
    "    \n",
    "    batch_results = process_batch(batch_df, max_workers=max_workers)\n",
    "    \n",
    "    # Create a mapping dictionary from the results\n",
    "    batch_map = {cik: sic for cik, sic in batch_results}\n",
    "    # Map the extracted SIC codes to the corresponding rows; fill missing values with 0.\n",
    "    companyData.loc[companyData.index[start:end], 'SIC_code'] = companyData.loc[companyData.index[start:end], 'cik_str'].map(batch_map).fillna(0)\n",
    "    \n",
    "    # Save the updated DataFrame to CSV\n",
    "    companyData.to_csv(f\"/Users/mayankbambal/Desktop/SIC Scraper/data/stagging/Data_with_SIC_codes{batch_num}.csv\", index=False)\n",
    "    print(f\"Batch {batch_num} processed and saved.\")\n",
    "    return companyData"
   ]
  },
  {
   "cell_type": "code",
   "execution_count": 16,
   "metadata": {},
   "outputs": [],
   "source": [
    "def update_sic_from_file(file1, file2):\n",
    "    \"\"\"\n",
    "    Updates SIC_code in file1 using non-zero SIC_code values from file2,\n",
    "    matching on cik_str. Only non-zero SIC_codes from file2 are applied.\n",
    "    file1 is updated in-place.\n",
    "\n",
    "    Args:\n",
    "        file1 (str): Path to the main CSV file to update (will be modified).\n",
    "        file2 (str): Path to the CSV file containing updated SIC_codes.\n",
    "    \"\"\"\n",
    "    # Read both files\n",
    "    df_main = pd.read_csv(file1)\n",
    "    df_sic = pd.read_csv(file2)\n",
    "\n",
    "    # Ensure cik_str is properly formatted\n",
    "    df_main['cik_str'] = df_main['cik_str'].astype(str).str.zfill(10)\n",
    "    df_sic['cik_str'] = df_sic['cik_str'].astype(str).str.zfill(10)\n",
    "\n",
    "    # Keep only non-zero SIC_code rows from file2\n",
    "    df_sic_nonzero = df_sic[df_sic['SIC_code'] != 0][['cik_str', 'SIC_code']]\n",
    "\n",
    "    # Set index for fast lookup\n",
    "    df_sic_nonzero.set_index('cik_str', inplace=True)\n",
    "\n",
    "    # Update SIC_code in df_main\n",
    "    def get_updated_sic(row):\n",
    "        return df_sic_nonzero.loc[row['cik_str'], 'SIC_code'] \\\n",
    "            if row['cik_str'] in df_sic_nonzero.index else row.get('SIC_code', 0)\n",
    "\n",
    "    df_main['SIC_code'] = df_main.apply(get_updated_sic, axis=1)\n",
    "\n",
    "    # Save back to file1\n",
    "    df_main.to_csv(file1, index=False)\n",
    "    print(f\"Updated SIC_code values saved to: {file1}\")"
   ]
  },
  {
   "cell_type": "code",
   "execution_count": 8,
   "metadata": {},
   "outputs": [
    {
     "ename": "NameError",
     "evalue": "name 'pd' is not defined",
     "output_type": "error",
     "traceback": [
      "\u001b[31m---------------------------------------------------------------------------\u001b[39m",
      "\u001b[31mNameError\u001b[39m                                 Traceback (most recent call last)",
      "\u001b[36mCell\u001b[39m\u001b[36m \u001b[39m\u001b[32mIn[8]\u001b[39m\u001b[32m, line 1\u001b[39m\n\u001b[32m----> \u001b[39m\u001b[32m1\u001b[39m find_sic = \u001b[43mget_missing_sic_rows\u001b[49m\u001b[43m(\u001b[49m\u001b[33;43m'\u001b[39;49m\u001b[33;43m/Users/mayankbambal/Desktop/SIC Scraper/data/final/company_tickers.csv\u001b[39;49m\u001b[33;43m'\u001b[39;49m\u001b[43m)\u001b[49m\n\u001b[32m      2\u001b[39m find_sic.shape\n",
      "\u001b[36mCell\u001b[39m\u001b[36m \u001b[39m\u001b[32mIn[4]\u001b[39m\u001b[32m, line 12\u001b[39m, in \u001b[36mget_missing_sic_rows\u001b[39m\u001b[34m(all_ciks_file)\u001b[39m\n\u001b[32m      1\u001b[39m \u001b[38;5;28;01mdef\u001b[39;00m\u001b[38;5;250m \u001b[39m\u001b[34mget_missing_sic_rows\u001b[39m(all_ciks_file):\n\u001b[32m      2\u001b[39m \u001b[38;5;250m    \u001b[39m\u001b[33;03m\"\"\"\u001b[39;00m\n\u001b[32m      3\u001b[39m \u001b[33;03m    Returns a DataFrame containing rows from the input file\u001b[39;00m\n\u001b[32m      4\u001b[39m \u001b[33;03m    where SIC_code is missing or zero.\u001b[39;00m\n\u001b[32m   (...)\u001b[39m\u001b[32m     10\u001b[39m \u001b[33;03m        pd.DataFrame: Filtered DataFrame with missing or zero SIC_code.\u001b[39;00m\n\u001b[32m     11\u001b[39m \u001b[33;03m    \"\"\"\u001b[39;00m\n\u001b[32m---> \u001b[39m\u001b[32m12\u001b[39m     df = \u001b[43mpd\u001b[49m.read_csv(all_ciks_file)\n\u001b[32m     14\u001b[39m     \u001b[38;5;66;03m# Ensure SIC_code exists and is numeric\u001b[39;00m\n\u001b[32m     15\u001b[39m     \u001b[38;5;28;01mif\u001b[39;00m \u001b[33m'\u001b[39m\u001b[33mSIC_code\u001b[39m\u001b[33m'\u001b[39m \u001b[38;5;129;01mnot\u001b[39;00m \u001b[38;5;129;01min\u001b[39;00m df.columns:\n",
      "\u001b[31mNameError\u001b[39m: name 'pd' is not defined"
     ]
    }
   ],
   "source": [
    "find_sic = get_missing_sic_rows('/Users/mayankbambal/Desktop/SIC Scraper/data/final/company_tickers.csv')\n",
    "find_sic.shape"
   ]
  },
  {
   "cell_type": "code",
   "execution_count": 17,
   "metadata": {},
   "outputs": [
    {
     "name": "stdout",
     "output_type": "stream",
     "text": [
      "Updated SIC_code values saved to: /Users/mayankbambal/Desktop/SIC Scraper/data/final/company_tickers.csv\n"
     ]
    }
   ],
   "source": [
    "update_sic_from_file('/Users/mayankbambal/Desktop/SIC Scraper/data/final/company_tickers.csv', f\"/Users/mayankbambal/Desktop/SIC Scraper/data/stagging/Data_with_SIC_codes3.csv\")"
   ]
  },
  {
   "cell_type": "code",
   "execution_count": null,
   "metadata": {},
   "outputs": [
    {
     "name": "stdout",
     "output_type": "stream",
     "text": [
      "Processing batch 2 (index 1000 to 1500)...\n",
      "Error processing CIK 1969863: ('Connection aborted.', RemoteDisconnected('Remote end closed connection without response'))Error processing CIK 1674440: ('Connection aborted.', RemoteDisconnected('Remote end closed connection without response'))\n",
      "Error processing CIK 1392449: ('Connection aborted.', RemoteDisconnected('Remote end closed connection without response'))\n",
      "\n",
      "Error processing CIK 1807166: ('Connection aborted.', RemoteDisconnected('Remote end closed connection without response'))\n",
      "Error processing CIK 1817760: ('Connection aborted.', RemoteDisconnected('Remote end closed connection without response'))\n",
      "Error processing CIK 1099160: ('Connection aborted.', RemoteDisconnected('Remote end closed connection without response'))\n",
      "Error processing CIK 1874252: ('Connection aborted.', RemoteDisconnected('Remote end closed connection without response'))\n",
      "Error processing CIK 1956741: ('Connection aborted.', RemoteDisconnected('Remote end closed connection without response'))\n",
      "Error processing CIK 1141284: ('Connection aborted.', RemoteDisconnected('Remote end closed connection without response'))\n",
      "Error processing CIK 1898766: ('Connection aborted.', RemoteDisconnected('Remote end closed connection without response'))\n",
      "Error processing CIK 1901215: ('Connection aborted.', RemoteDisconnected('Remote end closed connection without response'))\n",
      "Error processing CIK 1026662: ('Connection aborted.', RemoteDisconnected('Remote end closed connection without response'))\n",
      "Error processing CIK 1919246: ('Connection aborted.', RemoteDisconnected('Remote end closed connection without response'))\n",
      "Error processing CIK 1701963: ('Connection aborted.', RemoteDisconnected('Remote end closed connection without response'))\n",
      "Error processing CIK 1319150: ('Connection aborted.', RemoteDisconnected('Remote end closed connection without response'))\n",
      "Error processing CIK 1854480: HTTPConnectionPool(host='localhost', port=53611): Max retries exceeded with url: /session/13afcbff-d1ad-4af8-8f44-d16eb26579ca/source (Caused by NewConnectionError('<urllib3.connection.HTTPConnection object at 0x10eef6360>: Failed to establish a new connection: [Errno 61] Connection refused'))\n"
     ]
    }
   ],
   "source": [
    "batch_number = 0  # Change this to the desired batch number\n",
    "companyData = process_single_batch(find_sic, batch_number, batch_size=500, max_workers=16)\n",
    "update_sic_from_file('/Users/mayankbambal/Desktop/SIC Scraper/data/final/company_tickers.csv', f\"/Users/mayankbambal/Desktop/SIC Scraper/data/stagging/Data_with_SIC_codes3.csv\")\n"
   ]
  }
 ],
 "metadata": {
  "kernelspec": {
   "display_name": ".venv",
   "language": "python",
   "name": "python3"
  },
  "language_info": {
   "codemirror_mode": {
    "name": "ipython",
    "version": 3
   },
   "file_extension": ".py",
   "mimetype": "text/x-python",
   "name": "python",
   "nbconvert_exporter": "python",
   "pygments_lexer": "ipython3",
   "version": "3.13.2"
  }
 },
 "nbformat": 4,
 "nbformat_minor": 2
}

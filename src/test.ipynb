{
 "cells": [
  {
   "cell_type": "code",
   "execution_count": 3,
   "metadata": {},
   "outputs": [],
   "source": [
    "import pandas as pd\n",
    "import numpy as np"
   ]
  },
  {
   "cell_type": "code",
   "execution_count": 27,
   "metadata": {},
   "outputs": [],
   "source": [
    "df = pd.read_csv('/Users/mayankbambal/Desktop/SIC Scraper/data/final/company_tickers.csv')"
   ]
  },
  {
   "cell_type": "code",
   "execution_count": 28,
   "metadata": {},
   "outputs": [],
   "source": [
    "df['SIC_code'] = df['SIC_code'].fillna(0)\n",
    "df['SIC_code'] = df['SIC_code'].astype(int)\n",
    "df['SIC_code'] = df['SIC_code'].astype(str)\n"
   ]
  },
  {
   "cell_type": "code",
   "execution_count": 29,
   "metadata": {},
   "outputs": [],
   "source": [
    "nosci= df[df['SIC_code'] == '0']"
   ]
  },
  {
   "cell_type": "code",
   "execution_count": 30,
   "metadata": {},
   "outputs": [
    {
     "data": {
      "text/plain": [
       "(3157, 4)"
      ]
     },
     "execution_count": 30,
     "metadata": {},
     "output_type": "execute_result"
    }
   ],
   "source": [
    "nosci.shape"
   ]
  },
  {
   "cell_type": "code",
   "execution_count": null,
   "metadata": {},
   "outputs": [],
   "source": [
    "df.to_csv('/Users/mayankbambal/Desktop/SIC Scraper/data/final/CIK_SIC_mapping.csv', index=False)"
   ]
  },
  {
   "cell_type": "code",
   "execution_count": 23,
   "metadata": {},
   "outputs": [],
   "source": [
    "import pandas as pd\n",
    "\n",
    "def update_sic_from_file(file1, file2):\n",
    "    \"\"\"\n",
    "    Updates SIC_code in file1 using non-zero SIC_code values from file2,\n",
    "    matching on cik_str. Only non-zero SIC_codes from file2 are applied.\n",
    "    file1 is updated in-place.\n",
    "\n",
    "    Args:\n",
    "        file1 (str): Path to the main CSV file to update (will be modified).\n",
    "        file2 (str): Path to the CSV file containing updated SIC_codes.\n",
    "    \"\"\"\n",
    "    # Read both files\n",
    "    df_main = pd.read_csv(file1)\n",
    "    df_sic = pd.read_csv(file2)\n",
    "\n",
    "    # Ensure cik_str is properly formatted\n",
    "    df_main['cik_str'] = df_main['cik_str'].astype(str).str.zfill(10)\n",
    "    df_sic['cik_str'] = df_sic['cik_str'].astype(str).str.zfill(10)\n",
    "\n",
    "    # Keep only non-zero SIC_code rows from file2\n",
    "    df_sic_nonzero = df_sic[df_sic['SIC_code'] != 0][['cik_str', 'SIC_code']]\n",
    "\n",
    "    # Set index for fast lookup\n",
    "    df_sic_nonzero.set_index('cik_str', inplace=True)\n",
    "\n",
    "    # Update SIC_code in df_main\n",
    "    def get_updated_sic(row):\n",
    "        return df_sic_nonzero.loc[row['cik_str'], 'SIC_code'] \\\n",
    "            if row['cik_str'] in df_sic_nonzero.index else row.get('SIC_code', 0)\n",
    "\n",
    "    df_main['SIC_code'] = df_main.apply(get_updated_sic, axis=1)\n",
    "\n",
    "    # Save back to file1\n",
    "    df_main.to_csv(file1, index=False)\n",
    "    print(f\"Updated SIC_code values saved to: {file1}\")"
   ]
  },
  {
   "cell_type": "code",
   "execution_count": 26,
   "metadata": {},
   "outputs": [
    {
     "name": "stdout",
     "output_type": "stream",
     "text": [
      "Updated SIC_code values saved to: /Users/mayankbambal/Desktop/SIC Scraper/data/final/company_tickers.csv\n"
     ]
    }
   ],
   "source": [
    "update_sic_from_file('/Users/mayankbambal/Desktop/SIC Scraper/data/final/company_tickers.csv', '/Users/mayankbambal/Desktop/SIC Scraper/data/final/master.csv')"
   ]
  },
  {
   "cell_type": "code",
   "execution_count": null,
   "metadata": {},
   "outputs": [],
   "source": []
  }
 ],
 "metadata": {
  "kernelspec": {
   "display_name": ".venv",
   "language": "python",
   "name": "python3"
  },
  "language_info": {
   "codemirror_mode": {
    "name": "ipython",
    "version": 3
   },
   "file_extension": ".py",
   "mimetype": "text/x-python",
   "name": "python",
   "nbconvert_exporter": "python",
   "pygments_lexer": "ipython3",
   "version": "3.13.2"
  }
 },
 "nbformat": 4,
 "nbformat_minor": 2
}

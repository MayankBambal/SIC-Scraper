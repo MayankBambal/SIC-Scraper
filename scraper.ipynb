{
 "cells": [
  {
   "cell_type": "code",
   "execution_count": 1,
   "metadata": {},
   "outputs": [],
   "source": [
    "import random\n",
    "import time\n",
    "import pandas as pd\n",
    "from concurrent.futures import ThreadPoolExecutor, as_completed\n",
    "from selenium import webdriver\n",
    "from selenium.webdriver.firefox.options import Options as FirefoxOptions\n",
    "from selenium.webdriver.firefox.service import Service as FirefoxService\n",
    "from bs4 import BeautifulSoup\n",
    "\n",
    "def get_edgar_data_selenium(cik):\n",
    "    \"\"\"\n",
    "    Uses Selenium with Firefox to load the SEC EDGAR page for the given CIK.\n",
    "    Returns the rendered HTML.\n",
    "    \"\"\"\n",
    "    # Set up Firefox options for headless mode\n",
    "    firefox_options = FirefoxOptions()\n",
    "    firefox_options.add_argument(\"--headless\")\n",
    "    firefox_options.add_argument(\"--no-sandbox\")\n",
    "    firefox_options.add_argument(\"--disable-dev-shm-usage\")\n",
    "    # Set the binary location (adjust if necessary)\n",
    "    firefox_options.binary_location = \"/Applications/Firefox.app/Contents/MacOS/firefox\"\n",
    "    \n",
    "    # Create a Service object pointing to geckodriver (adjust the path if needed)\n",
    "    service = FirefoxService(executable_path=\"/opt/homebrew/bin/geckodriver\")\n",
    "    \n",
    "    # Initialize the Firefox WebDriver with the service and options\n",
    "    driver = webdriver.Firefox(service=service, options=firefox_options)\n",
    "\n",
    "    # Construct the SEC EDGAR URL for the given CIK (using the classic endpoint)\n",
    "    url = f\"https://www.sec.gov/cgi-bin/browse-edgar?CIK={cik}&owner=exclude&action=getcompany\"\n",
    "    driver.get(url)\n",
    "    \n",
    "    # Allow time for the page to load completely\n",
    "    time.sleep(3)\n",
    "    \n",
    "    # Get the rendered HTML\n",
    "    html = driver.page_source\n",
    "    driver.quit()\n",
    "    return html"
   ]
  },
  {
   "cell_type": "code",
   "execution_count": 2,
   "metadata": {},
   "outputs": [],
   "source": [
    "\n",
    "def get_sic_code_from_html(html):\n",
    "    \"\"\"\n",
    "    Parses the provided HTML using BeautifulSoup and extracts the SIC code.\n",
    "    It looks for a <span> element with id=\"SIC\" and returns its text.\n",
    "    \"\"\"\n",
    "    soup = BeautifulSoup(html, 'html.parser')\n",
    "    sic_spans = soup.find_all(\"span\", id=\"SIC\")\n",
    "    if sic_spans:\n",
    "        return sic_spans[0].get_text(strip=True)\n",
    "    return None\n",
    "\n"
   ]
  },
  {
   "cell_type": "code",
   "execution_count": 3,
   "metadata": {},
   "outputs": [],
   "source": [
    "def process_company(cik):\n",
    "    \"\"\"\n",
    "    Processes a single company: fetches its EDGAR page using Firefox,\n",
    "    extracts the SIC code, and returns a tuple (cik, sic_code).\n",
    "    A random delay is added to avoid overwhelming the server.\n",
    "    \"\"\"\n",
    "    try:\n",
    "        html_data = get_edgar_data_selenium(cik)\n",
    "        sic_code = get_sic_code_from_html(html_data)\n",
    "    except Exception as e:\n",
    "        print(f\"Error processing CIK {cik}: {e}\")\n",
    "        sic_code = None\n",
    "    # Add a random delay between 1 and 3 seconds\n",
    "    time.sleep(random.uniform(1, 3))\n",
    "    return cik, sic_code\n"
   ]
  },
  {
   "cell_type": "code",
   "execution_count": 4,
   "metadata": {},
   "outputs": [],
   "source": [
    "companyDataall = pd.read_csv('/Users/mayankbambal/Desktop/SIC Scraper/data/final/CIK_SIC.csv')\n",
    "companyDataall['SIC_code'] = companyDataall['SIC_code'].fillna(0)\n",
    "companyDataall['SIC_code']=companyDataall['SIC_code'].astype(int)\n",
    "companyData = companyDataall.loc[companyDataall['SIC_code']==0]\n"
   ]
  },
  {
   "cell_type": "code",
   "execution_count": 5,
   "metadata": {},
   "outputs": [],
   "source": [
    "def process_batch(batch_df, max_workers=3):\n",
    "    \"\"\"\n",
    "    Processes a batch of companies concurrently.\n",
    "    Returns a list of tuples (cik, sic_code) for the companies in the batch.\n",
    "    \"\"\"\n",
    "    results = []\n",
    "    with ThreadPoolExecutor(max_workers=max_workers) as executor:\n",
    "        future_to_cik = {executor.submit(process_company, row['cik_str']): row['cik_str'] for _, row in batch_df.iterrows()}\n",
    "        for future in as_completed(future_to_cik):\n",
    "            cik, sic_code = future.result()\n",
    "            results.append((cik, sic_code))\n",
    "    return results"
   ]
  },
  {
   "cell_type": "code",
   "execution_count": 6,
   "metadata": {},
   "outputs": [],
   "source": [
    "def process_single_batch(companyData, batch_num, batch_size=1000, max_workers=3):\n",
    "    \"\"\"\n",
    "    Processes a single batch of companies (based on the given batch number).\n",
    "    Updates the companyData DataFrame with extracted SIC codes for that batch and saves the DataFrame.\n",
    "    \n",
    "    Args:\n",
    "        companyData: The full DataFrame containing company data.\n",
    "        batch_num: The batch number to process (starting from 0).\n",
    "        batch_size: Number of companies to process in one batch.\n",
    "        max_workers: Maximum number of threads for parallel processing.\n",
    "        \n",
    "    Returns:\n",
    "        The updated companyData DataFrame.\n",
    "    \"\"\"\n",
    "    start = batch_num * batch_size\n",
    "    end = start + batch_size\n",
    "    batch_df = companyData.iloc[start:end]\n",
    "    print(f\"Processing batch {batch_num} (index {start} to {end})...\")\n",
    "    \n",
    "    batch_results = process_batch(batch_df, max_workers=max_workers)\n",
    "    \n",
    "    # Create a mapping dictionary from the results\n",
    "    batch_map = {cik: sic for cik, sic in batch_results}\n",
    "    # Map the extracted SIC codes to the corresponding rows; fill missing values with 0.\n",
    "    companyData.loc[companyData.index[start:end], 'SIC_code'] = companyData.loc[companyData.index[start:end], 'cik_str'].map(batch_map).fillna(0)\n",
    "    \n",
    "    # Save the updated DataFrame to CSV\n",
    "    companyData.to_csv(\"companyData_with_SIC_codes.csv\", index=False)\n",
    "    print(f\"Batch {batch_num} processed and saved.\")\n",
    "    return companyData"
   ]
  },
  {
   "cell_type": "code",
   "execution_count": null,
   "metadata": {},
   "outputs": [
    {
     "name": "stdout",
     "output_type": "stream",
     "text": [
      "Processing batch 0 (index 0 to 500)...\n"
     ]
    }
   ],
   "source": [
    "batch_number = 0  # Change this to the desired batch number\n",
    "companyData = process_single_batch(companyData, batch_number, batch_size=500, max_workers=8)"
   ]
  },
  {
   "cell_type": "code",
   "execution_count": null,
   "metadata": {},
   "outputs": [],
   "source": [
    "companyData.to_csv('/Users/mayankbambal/Desktop/SIC Scraper/data/final/second.csv',index=False)"
   ]
  },
  {
   "cell_type": "code",
   "execution_count": null,
   "metadata": {},
   "outputs": [],
   "source": []
  }
 ],
 "metadata": {
  "kernelspec": {
   "display_name": ".venv",
   "language": "python",
   "name": "python3"
  },
  "language_info": {
   "codemirror_mode": {
    "name": "ipython",
    "version": 3
   },
   "file_extension": ".py",
   "mimetype": "text/x-python",
   "name": "python",
   "nbconvert_exporter": "python",
   "pygments_lexer": "ipython3",
   "version": "3.13.2"
  }
 },
 "nbformat": 4,
 "nbformat_minor": 2
}

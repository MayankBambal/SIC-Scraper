{
 "cells": [
  {
   "cell_type": "code",
   "execution_count": 1,
   "metadata": {},
   "outputs": [],
   "source": [
    "import random\n",
    "import time\n",
    "import pandas as pd\n",
    "from concurrent.futures import ThreadPoolExecutor, as_completed\n",
    "from selenium import webdriver\n",
    "from selenium.webdriver.firefox.options import Options as FirefoxOptions\n",
    "from selenium.webdriver.firefox.service import Service as FirefoxService\n",
    "from bs4 import BeautifulSoup\n",
    "\n",
    "def get_edgar_data_selenium(cik):\n",
    "    \"\"\"\n",
    "    Uses Selenium with Firefox to load the SEC EDGAR page for the given CIK.\n",
    "    Returns the rendered HTML.\n",
    "    \"\"\"\n",
    "    # Set up Firefox options for headless mode\n",
    "    firefox_options = FirefoxOptions()\n",
    "    firefox_options.add_argument(\"--headless\")\n",
    "    firefox_options.add_argument(\"--no-sandbox\")\n",
    "    firefox_options.add_argument(\"--disable-dev-shm-usage\")\n",
    "    # Set the binary location (adjust if necessary)\n",
    "    firefox_options.binary_location = \"/Applications/Firefox.app/Contents/MacOS/firefox\"\n",
    "    \n",
    "    # Create a Service object pointing to geckodriver (adjust the path if needed)\n",
    "    service = FirefoxService(executable_path=\"/opt/homebrew/bin/geckodriver\")\n",
    "    \n",
    "    # Initialize the Firefox WebDriver with the service and options\n",
    "    driver = webdriver.Firefox(service=service, options=firefox_options)\n",
    "\n",
    "    # Construct the SEC EDGAR URL for the given CIK (using the classic endpoint)\n",
    "    url = f\"https://www.sec.gov/cgi-bin/browse-edgar?CIK={cik}&owner=exclude&action=getcompany\"\n",
    "    driver.get(url)\n",
    "    \n",
    "    # Allow time for the page to load completely\n",
    "    time.sleep(3)\n",
    "    \n",
    "    # Get the rendered HTML\n",
    "    html = driver.page_source\n",
    "    driver.quit()\n",
    "    return html"
   ]
  },
  {
   "cell_type": "code",
   "execution_count": 2,
   "metadata": {},
   "outputs": [],
   "source": [
    "\n",
    "def get_sic_code_from_html(html):\n",
    "    \"\"\"\n",
    "    Parses the provided HTML using BeautifulSoup and extracts the SIC code.\n",
    "    It looks for a <span> element with id=\"SIC\" and returns its text.\n",
    "    \"\"\"\n",
    "    soup = BeautifulSoup(html, 'html.parser')\n",
    "    sic_spans = soup.find_all(\"span\", id=\"SIC\")\n",
    "    if sic_spans:\n",
    "        return sic_spans[0].get_text(strip=True)\n",
    "    return None\n",
    "\n"
   ]
  },
  {
   "cell_type": "code",
   "execution_count": 3,
   "metadata": {},
   "outputs": [],
   "source": [
    "def process_company(cik):\n",
    "    \"\"\"\n",
    "    Processes a single company: fetches its EDGAR page using Firefox,\n",
    "    extracts the SIC code, and returns a tuple (cik, sic_code).\n",
    "    A random delay is added to avoid overwhelming the server.\n",
    "    \"\"\"\n",
    "    try:\n",
    "        html_data = get_edgar_data_selenium(cik)\n",
    "        sic_code = get_sic_code_from_html(html_data)\n",
    "    except Exception as e:\n",
    "        print(f\"Error processing CIK {cik}: {e}\")\n",
    "        sic_code = None\n",
    "    # Add a random delay between 1 and 3 seconds\n",
    "    time.sleep(random.uniform(1, 3))\n",
    "    return cik, sic_code\n"
   ]
  },
  {
   "cell_type": "code",
   "execution_count": 4,
   "metadata": {},
   "outputs": [],
   "source": [
    "companyDataall = pd.read_csv('/Users/mayankbambal/Desktop/SIC Scraper/data/final/CIK_SIC.csv')\n",
    "companyDataall['SIC_code'] = companyDataall['SIC_code'].fillna(0)\n",
    "companyDataall['SIC_code']=companyDataall['SIC_code'].astype(int)\n",
    "companyData = companyDataall.loc[companyDataall['SIC_code']==0]\n"
   ]
  },
  {
   "cell_type": "code",
   "execution_count": 5,
   "metadata": {},
   "outputs": [],
   "source": [
    "def process_batch(batch_df, max_workers=3):\n",
    "    \"\"\"\n",
    "    Processes a batch of companies concurrently.\n",
    "    Returns a list of tuples (cik, sic_code) for the companies in the batch.\n",
    "    \"\"\"\n",
    "    results = []\n",
    "    with ThreadPoolExecutor(max_workers=max_workers) as executor:\n",
    "        future_to_cik = {executor.submit(process_company, row['cik_str']): row['cik_str'] for _, row in batch_df.iterrows()}\n",
    "        for future in as_completed(future_to_cik):\n",
    "            cik, sic_code = future.result()\n",
    "            results.append((cik, sic_code))\n",
    "    return results"
   ]
  },
  {
   "cell_type": "code",
   "execution_count": 6,
   "metadata": {},
   "outputs": [],
   "source": [
    "def process_single_batch(companyData, batch_num, batch_size=1000, max_workers=3):\n",
    "    \"\"\"\n",
    "    Processes a single batch of companies (based on the given batch number).\n",
    "    Updates the companyData DataFrame with extracted SIC codes for that batch and saves the DataFrame.\n",
    "    \n",
    "    Args:\n",
    "        companyData: The full DataFrame containing company data.\n",
    "        batch_num: The batch number to process (starting from 0).\n",
    "        batch_size: Number of companies to process in one batch.\n",
    "        max_workers: Maximum number of threads for parallel processing.\n",
    "        \n",
    "    Returns:\n",
    "        The updated companyData DataFrame.\n",
    "    \"\"\"\n",
    "    start = batch_num * batch_size\n",
    "    end = start + batch_size\n",
    "    batch_df = companyData.iloc[start:end]\n",
    "    print(f\"Processing batch {batch_num} (index {start} to {end})...\")\n",
    "    \n",
    "    batch_results = process_batch(batch_df, max_workers=max_workers)\n",
    "    \n",
    "    # Create a mapping dictionary from the results\n",
    "    batch_map = {cik: sic for cik, sic in batch_results}\n",
    "    # Map the extracted SIC codes to the corresponding rows; fill missing values with 0.\n",
    "    companyData.loc[companyData.index[start:end], 'SIC_code'] = companyData.loc[companyData.index[start:end], 'cik_str'].map(batch_map).fillna(0)\n",
    "    \n",
    "    # Save the updated DataFrame to CSV\n",
    "    companyData.to_csv(\"companyData_with_SIC_codes.csv\", index=False)\n",
    "    print(f\"Batch {batch_num} processed and saved.\")\n",
    "    return companyData"
   ]
  },
  {
   "cell_type": "code",
   "execution_count": 7,
   "metadata": {},
   "outputs": [
    {
     "name": "stdout",
     "output_type": "stream",
     "text": [
      "Processing batch 0 (index 0 to 500)...\n",
      "Batch 0 processed and saved.\n"
     ]
    },
    {
     "name": "stderr",
     "output_type": "stream",
     "text": [
      "/var/folders/tx/1k19h6p14px3c2c676mgbftm0000gn/T/ipykernel_3399/449642967.py:25: FutureWarning: Setting an item of incompatible dtype is deprecated and will raise an error in a future version of pandas. Value '['' '' '' '' '' '' '' '' '' '' '' '' '' '' '' '' '' '' '' '' '' '' '' ''\n",
      " '' '' '' '' '' '' '' '' '' '' '' '' '' '' '' '' '' '' '' '' '' '' '' ''\n",
      " '' '' '' '' '' '' '' '' '' '' '' '' '' '' '' '' '' '' '' '' '' '' '' ''\n",
      " '6021' '' '' '' '' '' '' '' '' '' '' '' '' '' '' '' '' '7374' '' '' '' ''\n",
      " '' '' '' '' '' '' '' '' '' '' '' '' '' '' '4213' '2834' '6022' '2834'\n",
      " '8082' '7374' '3841' '' '3559' '3541' '6798' '5172' '3841' '7372' '3578'\n",
      " '1381' '8200' '7011' '6021' '7372' '6199' '' '' '8200' '6029' '3728'\n",
      " '6022' '3674' '5141' '7311' '' '4700' '3533' '2836' '6022' '5961' '6411'\n",
      " '2800' '5621' '' '2834' '2510' '8742' '6035' '3690' '1700' '7389' '3620'\n",
      " '7372' '3690' '3580' '7372' '7374' '5961' '6798' '' '1311' '4400' '1381'\n",
      " '5661' '3711' '7372' '8744' '3571' '6022' '6021' '7011' '1311' '2834'\n",
      " '6324' '2860' '6798' '' '' '7371' '8011' '' '7990' '1381' '5812' '7370'\n",
      " '6021' '2836' '7373' '7389' '4412' '3241' '6331' '6531' '7374' '6798'\n",
      " '7371' '3812' '7374' '5150' '7372' '6211' '4841' '5190' '2510' '6798'\n",
      " '0100' '8200' '4513' '3669' '7372' '' '7374' '2300' '5812' '8742' '6022'\n",
      " '6021' '7372' '7372' '6022' '2844' '6798' '6531' '2821' '4923' '7372'\n",
      " '6798' '0100' '3672' '6798' '' '6022' '8051' '3578' '1311' '' '3651'\n",
      " '3523' '7373' '2030' '4512' '6029' '3533' '' '7900' '' '2834' '6029'\n",
      " '7359' '2834' '1221' '' '2000' '' '6221' '3651' '4841' '5080' '6798'\n",
      " '2835' '6211' '1000' '7011' '0100' '5150' '3674' '6798' '6798' '6021'\n",
      " '2800' '6531' '1000' '3841' '6199' '2836' '1540' '2821' '6022' '' '8082'\n",
      " '5900' '4841' '3310' '4400' '6022' '5084' '7389' '7371' '6021' '3663'\n",
      " '7370' '7372' '2840' '3826' '5080' '3861' '' '6282' '3841' '' '7830'\n",
      " '2834' '8071' '3842' '7389' '2520' '6798' '3674' '1400' '6798' '1090'\n",
      " '6022' '3672' '7389' '5912' '3576' '8734' '2834' '2834' '7372' '6798'\n",
      " '3533' '3845' '3559' '' '2834' '6199' '6021' '6022' '6798' '5712' '2834'\n",
      " '6798' '3663' '1040' '7380' '6798' '6798' '2834' '6022' '6211' '6022'\n",
      " '2522' '2836' '6141' '1040' '2834' '1040' '0700' '2834' '8742' '7011'\n",
      " '6021' '4412' '6798' '4813' '6798' '1389' '5411' '6331' '1389' '' '1311'\n",
      " '6282' '8200' '3841' '8060' '3663' '3634' '6036' '7374' '4412' '6500'\n",
      " '6331' '8050' '4400' '1000' '' '2834' '6500' '2300' '6798' '8111' '3845'\n",
      " '1040' '5411' '' '6282' '4899' '4841' '' '0000' '7380' '3490' '6022' ''\n",
      " '' '3714' '7990' '6798' '7900' '8000' '3841' '7510' '6399' '3674' '1040'\n",
      " '6331' '' '7372' '2810' '2090' '6552' '' '1389' '3674' '3559' '4412'\n",
      " '7372' '3442' '2741' '8741' '6163' '3949' '2911' '6199' '4911' '1389'\n",
      " '6199' '6199' '7372' '3713' '2834' '2834' '2273' '2834' '1389' '3350'\n",
      " '4213' '6798' '' '7812' '' '6798' '2834' '4412' '3842' '3663' '2750'\n",
      " '6798' '6199' '1040' '3674' '6022' '5900' '6500' '' '2834' '7310' '7990'\n",
      " '2834' '6798' '3576' '3140' '6798' '6021' '3841' '6021' '' '2510' '4941'\n",
      " '5900' '3651' '2836' '3577' '1311' '0100' '7359' '' '7359' '' '6199'\n",
      " '8082' '8071' '2834' '' '5500' '6022' '5961' '8200' '3851' '2834' '7372'\n",
      " '7372' '3711' '7389']' has dtype incompatible with int64, please explicitly cast to a compatible dtype first.\n",
      "  companyData.loc[companyData.index[start:end], 'SIC_code'] = companyData.loc[companyData.index[start:end], 'cik_str'].map(batch_map).fillna(0)\n"
     ]
    }
   ],
   "source": [
    "batch_number = 0  # Change this to the desired batch number\n",
    "companyData = process_single_batch(companyData, batch_number, batch_size=500, max_workers=8)"
   ]
  },
  {
   "cell_type": "code",
   "execution_count": 8,
   "metadata": {},
   "outputs": [],
   "source": [
    "companyData.to_csv('/Users/mayankbambal/Desktop/SIC Scraper/data/final/second.csv',index=False)"
   ]
  },
  {
   "cell_type": "code",
   "execution_count": null,
   "metadata": {},
   "outputs": [],
   "source": []
  }
 ],
 "metadata": {
  "kernelspec": {
   "display_name": ".venv",
   "language": "python",
   "name": "python3"
  },
  "language_info": {
   "codemirror_mode": {
    "name": "ipython",
    "version": 3
   },
   "file_extension": ".py",
   "mimetype": "text/x-python",
   "name": "python",
   "nbconvert_exporter": "python",
   "pygments_lexer": "ipython3",
   "version": "3.13.2"
  }
 },
 "nbformat": 4,
 "nbformat_minor": 2
}
